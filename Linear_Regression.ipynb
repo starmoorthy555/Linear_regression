{
  "nbformat": 4,
  "nbformat_minor": 0,
  "metadata": {
    "colab": {
      "name": "Linear Regression.ipynb",
      "provenance": [],
      "collapsed_sections": [],
      "toc_visible": true
    },
    "kernelspec": {
      "name": "python3",
      "display_name": "Python 3"
    },
    "language_info": {
      "name": "python"
    }
  },
  "cells": [
    {
      "cell_type": "markdown",
      "source": [
        "Import Library"
      ],
      "metadata": {
        "id": "zfpIm7YHAEeb"
      }
    },
    {
      "cell_type": "code",
      "execution_count": 16,
      "metadata": {
        "id": "PlZR0RBrltOi"
      },
      "outputs": [],
      "source": [
        "import pandas as pd\n"
      ]
    },
    {
      "cell_type": "markdown",
      "source": [
        "Read the Data"
      ],
      "metadata": {
        "id": "Z-xod23IAMNc"
      }
    },
    {
      "cell_type": "code",
      "source": [
        "data = pd.read_csv(\"/content/Ecommerce Customers.csv\")"
      ],
      "metadata": {
        "id": "mG3w16ael40_"
      },
      "execution_count": 3,
      "outputs": []
    },
    {
      "cell_type": "code",
      "source": [
        "data.head(5)"
      ],
      "metadata": {
        "colab": {
          "base_uri": "https://localhost:8080/",
          "height": 496
        },
        "id": "5KVXEwzImC96",
        "outputId": "9a51dc31-ea5f-48be-8bb3-792f58410dc8"
      },
      "execution_count": 4,
      "outputs": [
        {
          "output_type": "execute_result",
          "data": {
            "text/html": [
              "\n",
              "  <div id=\"df-8e75b25e-1a74-4ead-bc04-89db2a48f831\">\n",
              "    <div class=\"colab-df-container\">\n",
              "      <div>\n",
              "<style scoped>\n",
              "    .dataframe tbody tr th:only-of-type {\n",
              "        vertical-align: middle;\n",
              "    }\n",
              "\n",
              "    .dataframe tbody tr th {\n",
              "        vertical-align: top;\n",
              "    }\n",
              "\n",
              "    .dataframe thead th {\n",
              "        text-align: right;\n",
              "    }\n",
              "</style>\n",
              "<table border=\"1\" class=\"dataframe\">\n",
              "  <thead>\n",
              "    <tr style=\"text-align: right;\">\n",
              "      <th></th>\n",
              "      <th>Email</th>\n",
              "      <th>Address</th>\n",
              "      <th>Avatar</th>\n",
              "      <th>Avg. Session Length</th>\n",
              "      <th>Time on App</th>\n",
              "      <th>Time on Website</th>\n",
              "      <th>Length of Membership</th>\n",
              "      <th>Yearly Amount Spent</th>\n",
              "    </tr>\n",
              "  </thead>\n",
              "  <tbody>\n",
              "    <tr>\n",
              "      <th>0</th>\n",
              "      <td>mstephenson@fernandez.com</td>\n",
              "      <td>835 Frank Tunnel\\nWrightmouth, MI 82180-9605</td>\n",
              "      <td>Violet</td>\n",
              "      <td>34.497268</td>\n",
              "      <td>12.655651</td>\n",
              "      <td>39.577668</td>\n",
              "      <td>4.082621</td>\n",
              "      <td>587.951054</td>\n",
              "    </tr>\n",
              "    <tr>\n",
              "      <th>1</th>\n",
              "      <td>hduke@hotmail.com</td>\n",
              "      <td>4547 Archer Common\\nDiazchester, CA 06566-8576</td>\n",
              "      <td>DarkGreen</td>\n",
              "      <td>31.926272</td>\n",
              "      <td>11.109461</td>\n",
              "      <td>37.268959</td>\n",
              "      <td>2.664034</td>\n",
              "      <td>392.204933</td>\n",
              "    </tr>\n",
              "    <tr>\n",
              "      <th>2</th>\n",
              "      <td>pallen@yahoo.com</td>\n",
              "      <td>24645 Valerie Unions Suite 582\\nCobbborough, D...</td>\n",
              "      <td>Bisque</td>\n",
              "      <td>33.000915</td>\n",
              "      <td>11.330278</td>\n",
              "      <td>37.110597</td>\n",
              "      <td>4.104543</td>\n",
              "      <td>487.547505</td>\n",
              "    </tr>\n",
              "    <tr>\n",
              "      <th>3</th>\n",
              "      <td>riverarebecca@gmail.com</td>\n",
              "      <td>1414 David Throughway\\nPort Jason, OH 22070-1220</td>\n",
              "      <td>SaddleBrown</td>\n",
              "      <td>34.305557</td>\n",
              "      <td>13.717514</td>\n",
              "      <td>36.721283</td>\n",
              "      <td>3.120179</td>\n",
              "      <td>581.852344</td>\n",
              "    </tr>\n",
              "    <tr>\n",
              "      <th>4</th>\n",
              "      <td>mstephens@davidson-herman.com</td>\n",
              "      <td>14023 Rodriguez Passage\\nPort Jacobville, PR 3...</td>\n",
              "      <td>MediumAquaMarine</td>\n",
              "      <td>33.330673</td>\n",
              "      <td>12.795189</td>\n",
              "      <td>37.536653</td>\n",
              "      <td>4.446308</td>\n",
              "      <td>599.406092</td>\n",
              "    </tr>\n",
              "  </tbody>\n",
              "</table>\n",
              "</div>\n",
              "      <button class=\"colab-df-convert\" onclick=\"convertToInteractive('df-8e75b25e-1a74-4ead-bc04-89db2a48f831')\"\n",
              "              title=\"Convert this dataframe to an interactive table.\"\n",
              "              style=\"display:none;\">\n",
              "        \n",
              "  <svg xmlns=\"http://www.w3.org/2000/svg\" height=\"24px\"viewBox=\"0 0 24 24\"\n",
              "       width=\"24px\">\n",
              "    <path d=\"M0 0h24v24H0V0z\" fill=\"none\"/>\n",
              "    <path d=\"M18.56 5.44l.94 2.06.94-2.06 2.06-.94-2.06-.94-.94-2.06-.94 2.06-2.06.94zm-11 1L8.5 8.5l.94-2.06 2.06-.94-2.06-.94L8.5 2.5l-.94 2.06-2.06.94zm10 10l.94 2.06.94-2.06 2.06-.94-2.06-.94-.94-2.06-.94 2.06-2.06.94z\"/><path d=\"M17.41 7.96l-1.37-1.37c-.4-.4-.92-.59-1.43-.59-.52 0-1.04.2-1.43.59L10.3 9.45l-7.72 7.72c-.78.78-.78 2.05 0 2.83L4 21.41c.39.39.9.59 1.41.59.51 0 1.02-.2 1.41-.59l7.78-7.78 2.81-2.81c.8-.78.8-2.07 0-2.86zM5.41 20L4 18.59l7.72-7.72 1.47 1.35L5.41 20z\"/>\n",
              "  </svg>\n",
              "      </button>\n",
              "      \n",
              "  <style>\n",
              "    .colab-df-container {\n",
              "      display:flex;\n",
              "      flex-wrap:wrap;\n",
              "      gap: 12px;\n",
              "    }\n",
              "\n",
              "    .colab-df-convert {\n",
              "      background-color: #E8F0FE;\n",
              "      border: none;\n",
              "      border-radius: 50%;\n",
              "      cursor: pointer;\n",
              "      display: none;\n",
              "      fill: #1967D2;\n",
              "      height: 32px;\n",
              "      padding: 0 0 0 0;\n",
              "      width: 32px;\n",
              "    }\n",
              "\n",
              "    .colab-df-convert:hover {\n",
              "      background-color: #E2EBFA;\n",
              "      box-shadow: 0px 1px 2px rgba(60, 64, 67, 0.3), 0px 1px 3px 1px rgba(60, 64, 67, 0.15);\n",
              "      fill: #174EA6;\n",
              "    }\n",
              "\n",
              "    [theme=dark] .colab-df-convert {\n",
              "      background-color: #3B4455;\n",
              "      fill: #D2E3FC;\n",
              "    }\n",
              "\n",
              "    [theme=dark] .colab-df-convert:hover {\n",
              "      background-color: #434B5C;\n",
              "      box-shadow: 0px 1px 3px 1px rgba(0, 0, 0, 0.15);\n",
              "      filter: drop-shadow(0px 1px 2px rgba(0, 0, 0, 0.3));\n",
              "      fill: #FFFFFF;\n",
              "    }\n",
              "  </style>\n",
              "\n",
              "      <script>\n",
              "        const buttonEl =\n",
              "          document.querySelector('#df-8e75b25e-1a74-4ead-bc04-89db2a48f831 button.colab-df-convert');\n",
              "        buttonEl.style.display =\n",
              "          google.colab.kernel.accessAllowed ? 'block' : 'none';\n",
              "\n",
              "        async function convertToInteractive(key) {\n",
              "          const element = document.querySelector('#df-8e75b25e-1a74-4ead-bc04-89db2a48f831');\n",
              "          const dataTable =\n",
              "            await google.colab.kernel.invokeFunction('convertToInteractive',\n",
              "                                                     [key], {});\n",
              "          if (!dataTable) return;\n",
              "\n",
              "          const docLinkHtml = 'Like what you see? Visit the ' +\n",
              "            '<a target=\"_blank\" href=https://colab.research.google.com/notebooks/data_table.ipynb>data table notebook</a>'\n",
              "            + ' to learn more about interactive tables.';\n",
              "          element.innerHTML = '';\n",
              "          dataTable['output_type'] = 'display_data';\n",
              "          await google.colab.output.renderOutput(dataTable, element);\n",
              "          const docLink = document.createElement('div');\n",
              "          docLink.innerHTML = docLinkHtml;\n",
              "          element.appendChild(docLink);\n",
              "        }\n",
              "      </script>\n",
              "    </div>\n",
              "  </div>\n",
              "  "
            ],
            "text/plain": [
              "                           Email  ... Yearly Amount Spent\n",
              "0      mstephenson@fernandez.com  ...          587.951054\n",
              "1              hduke@hotmail.com  ...          392.204933\n",
              "2               pallen@yahoo.com  ...          487.547505\n",
              "3        riverarebecca@gmail.com  ...          581.852344\n",
              "4  mstephens@davidson-herman.com  ...          599.406092\n",
              "\n",
              "[5 rows x 8 columns]"
            ]
          },
          "metadata": {},
          "execution_count": 4
        }
      ]
    },
    {
      "cell_type": "code",
      "source": [
        "data.describe()"
      ],
      "metadata": {
        "colab": {
          "base_uri": "https://localhost:8080/",
          "height": 300
        },
        "id": "5s6aZgWKmHth",
        "outputId": "a7b95ed1-4c6b-4bf8-d1d3-d8d007aa784e"
      },
      "execution_count": 5,
      "outputs": [
        {
          "output_type": "execute_result",
          "data": {
            "text/html": [
              "\n",
              "  <div id=\"df-c2900145-c74c-4de1-865d-f8dd1450e963\">\n",
              "    <div class=\"colab-df-container\">\n",
              "      <div>\n",
              "<style scoped>\n",
              "    .dataframe tbody tr th:only-of-type {\n",
              "        vertical-align: middle;\n",
              "    }\n",
              "\n",
              "    .dataframe tbody tr th {\n",
              "        vertical-align: top;\n",
              "    }\n",
              "\n",
              "    .dataframe thead th {\n",
              "        text-align: right;\n",
              "    }\n",
              "</style>\n",
              "<table border=\"1\" class=\"dataframe\">\n",
              "  <thead>\n",
              "    <tr style=\"text-align: right;\">\n",
              "      <th></th>\n",
              "      <th>Avg. Session Length</th>\n",
              "      <th>Time on App</th>\n",
              "      <th>Time on Website</th>\n",
              "      <th>Length of Membership</th>\n",
              "      <th>Yearly Amount Spent</th>\n",
              "    </tr>\n",
              "  </thead>\n",
              "  <tbody>\n",
              "    <tr>\n",
              "      <th>count</th>\n",
              "      <td>500.000000</td>\n",
              "      <td>500.000000</td>\n",
              "      <td>500.000000</td>\n",
              "      <td>500.000000</td>\n",
              "      <td>500.000000</td>\n",
              "    </tr>\n",
              "    <tr>\n",
              "      <th>mean</th>\n",
              "      <td>33.053194</td>\n",
              "      <td>12.052488</td>\n",
              "      <td>37.060445</td>\n",
              "      <td>3.533462</td>\n",
              "      <td>499.314038</td>\n",
              "    </tr>\n",
              "    <tr>\n",
              "      <th>std</th>\n",
              "      <td>0.992563</td>\n",
              "      <td>0.994216</td>\n",
              "      <td>1.010489</td>\n",
              "      <td>0.999278</td>\n",
              "      <td>79.314782</td>\n",
              "    </tr>\n",
              "    <tr>\n",
              "      <th>min</th>\n",
              "      <td>29.532429</td>\n",
              "      <td>8.508152</td>\n",
              "      <td>33.913847</td>\n",
              "      <td>0.269901</td>\n",
              "      <td>256.670582</td>\n",
              "    </tr>\n",
              "    <tr>\n",
              "      <th>25%</th>\n",
              "      <td>32.341822</td>\n",
              "      <td>11.388153</td>\n",
              "      <td>36.349257</td>\n",
              "      <td>2.930450</td>\n",
              "      <td>445.038277</td>\n",
              "    </tr>\n",
              "    <tr>\n",
              "      <th>50%</th>\n",
              "      <td>33.082008</td>\n",
              "      <td>11.983231</td>\n",
              "      <td>37.069367</td>\n",
              "      <td>3.533975</td>\n",
              "      <td>498.887875</td>\n",
              "    </tr>\n",
              "    <tr>\n",
              "      <th>75%</th>\n",
              "      <td>33.711985</td>\n",
              "      <td>12.753850</td>\n",
              "      <td>37.716432</td>\n",
              "      <td>4.126502</td>\n",
              "      <td>549.313828</td>\n",
              "    </tr>\n",
              "    <tr>\n",
              "      <th>max</th>\n",
              "      <td>36.139662</td>\n",
              "      <td>15.126994</td>\n",
              "      <td>40.005182</td>\n",
              "      <td>6.922689</td>\n",
              "      <td>765.518462</td>\n",
              "    </tr>\n",
              "  </tbody>\n",
              "</table>\n",
              "</div>\n",
              "      <button class=\"colab-df-convert\" onclick=\"convertToInteractive('df-c2900145-c74c-4de1-865d-f8dd1450e963')\"\n",
              "              title=\"Convert this dataframe to an interactive table.\"\n",
              "              style=\"display:none;\">\n",
              "        \n",
              "  <svg xmlns=\"http://www.w3.org/2000/svg\" height=\"24px\"viewBox=\"0 0 24 24\"\n",
              "       width=\"24px\">\n",
              "    <path d=\"M0 0h24v24H0V0z\" fill=\"none\"/>\n",
              "    <path d=\"M18.56 5.44l.94 2.06.94-2.06 2.06-.94-2.06-.94-.94-2.06-.94 2.06-2.06.94zm-11 1L8.5 8.5l.94-2.06 2.06-.94-2.06-.94L8.5 2.5l-.94 2.06-2.06.94zm10 10l.94 2.06.94-2.06 2.06-.94-2.06-.94-.94-2.06-.94 2.06-2.06.94z\"/><path d=\"M17.41 7.96l-1.37-1.37c-.4-.4-.92-.59-1.43-.59-.52 0-1.04.2-1.43.59L10.3 9.45l-7.72 7.72c-.78.78-.78 2.05 0 2.83L4 21.41c.39.39.9.59 1.41.59.51 0 1.02-.2 1.41-.59l7.78-7.78 2.81-2.81c.8-.78.8-2.07 0-2.86zM5.41 20L4 18.59l7.72-7.72 1.47 1.35L5.41 20z\"/>\n",
              "  </svg>\n",
              "      </button>\n",
              "      \n",
              "  <style>\n",
              "    .colab-df-container {\n",
              "      display:flex;\n",
              "      flex-wrap:wrap;\n",
              "      gap: 12px;\n",
              "    }\n",
              "\n",
              "    .colab-df-convert {\n",
              "      background-color: #E8F0FE;\n",
              "      border: none;\n",
              "      border-radius: 50%;\n",
              "      cursor: pointer;\n",
              "      display: none;\n",
              "      fill: #1967D2;\n",
              "      height: 32px;\n",
              "      padding: 0 0 0 0;\n",
              "      width: 32px;\n",
              "    }\n",
              "\n",
              "    .colab-df-convert:hover {\n",
              "      background-color: #E2EBFA;\n",
              "      box-shadow: 0px 1px 2px rgba(60, 64, 67, 0.3), 0px 1px 3px 1px rgba(60, 64, 67, 0.15);\n",
              "      fill: #174EA6;\n",
              "    }\n",
              "\n",
              "    [theme=dark] .colab-df-convert {\n",
              "      background-color: #3B4455;\n",
              "      fill: #D2E3FC;\n",
              "    }\n",
              "\n",
              "    [theme=dark] .colab-df-convert:hover {\n",
              "      background-color: #434B5C;\n",
              "      box-shadow: 0px 1px 3px 1px rgba(0, 0, 0, 0.15);\n",
              "      filter: drop-shadow(0px 1px 2px rgba(0, 0, 0, 0.3));\n",
              "      fill: #FFFFFF;\n",
              "    }\n",
              "  </style>\n",
              "\n",
              "      <script>\n",
              "        const buttonEl =\n",
              "          document.querySelector('#df-c2900145-c74c-4de1-865d-f8dd1450e963 button.colab-df-convert');\n",
              "        buttonEl.style.display =\n",
              "          google.colab.kernel.accessAllowed ? 'block' : 'none';\n",
              "\n",
              "        async function convertToInteractive(key) {\n",
              "          const element = document.querySelector('#df-c2900145-c74c-4de1-865d-f8dd1450e963');\n",
              "          const dataTable =\n",
              "            await google.colab.kernel.invokeFunction('convertToInteractive',\n",
              "                                                     [key], {});\n",
              "          if (!dataTable) return;\n",
              "\n",
              "          const docLinkHtml = 'Like what you see? Visit the ' +\n",
              "            '<a target=\"_blank\" href=https://colab.research.google.com/notebooks/data_table.ipynb>data table notebook</a>'\n",
              "            + ' to learn more about interactive tables.';\n",
              "          element.innerHTML = '';\n",
              "          dataTable['output_type'] = 'display_data';\n",
              "          await google.colab.output.renderOutput(dataTable, element);\n",
              "          const docLink = document.createElement('div');\n",
              "          docLink.innerHTML = docLinkHtml;\n",
              "          element.appendChild(docLink);\n",
              "        }\n",
              "      </script>\n",
              "    </div>\n",
              "  </div>\n",
              "  "
            ],
            "text/plain": [
              "       Avg. Session Length  ...  Yearly Amount Spent\n",
              "count           500.000000  ...           500.000000\n",
              "mean             33.053194  ...           499.314038\n",
              "std               0.992563  ...            79.314782\n",
              "min              29.532429  ...           256.670582\n",
              "25%              32.341822  ...           445.038277\n",
              "50%              33.082008  ...           498.887875\n",
              "75%              33.711985  ...           549.313828\n",
              "max              36.139662  ...           765.518462\n",
              "\n",
              "[8 rows x 5 columns]"
            ]
          },
          "metadata": {},
          "execution_count": 5
        }
      ]
    },
    {
      "cell_type": "code",
      "source": [
        "data.info()"
      ],
      "metadata": {
        "colab": {
          "base_uri": "https://localhost:8080/"
        },
        "id": "ty1ZyCIJmUqJ",
        "outputId": "aa2fa575-79aa-4dff-d795-f7ab6a82015d"
      },
      "execution_count": 6,
      "outputs": [
        {
          "output_type": "stream",
          "name": "stdout",
          "text": [
            "<class 'pandas.core.frame.DataFrame'>\n",
            "RangeIndex: 500 entries, 0 to 499\n",
            "Data columns (total 8 columns):\n",
            " #   Column                Non-Null Count  Dtype  \n",
            "---  ------                --------------  -----  \n",
            " 0   Email                 500 non-null    object \n",
            " 1   Address               500 non-null    object \n",
            " 2   Avatar                500 non-null    object \n",
            " 3   Avg. Session Length   500 non-null    float64\n",
            " 4   Time on App           500 non-null    float64\n",
            " 5   Time on Website       500 non-null    float64\n",
            " 6   Length of Membership  500 non-null    float64\n",
            " 7   Yearly Amount Spent   500 non-null    float64\n",
            "dtypes: float64(5), object(3)\n",
            "memory usage: 31.4+ KB\n"
          ]
        }
      ]
    },
    {
      "cell_type": "markdown",
      "source": [
        "Split the Data into X and Y"
      ],
      "metadata": {
        "id": "7c0_JvEWAmc8"
      }
    },
    {
      "cell_type": "code",
      "source": [
        "x= data.iloc[:,3:7].values\n",
        "y = data.iloc[:,7].values"
      ],
      "metadata": {
        "id": "QqcjcgOinCoK"
      },
      "execution_count": 7,
      "outputs": []
    },
    {
      "cell_type": "code",
      "source": [
        "x"
      ],
      "metadata": {
        "colab": {
          "base_uri": "https://localhost:8080/"
        },
        "id": "XhZ0wmxBnTy4",
        "outputId": "12282df2-ef28-42e8-a16e-61f97fb98ba9"
      },
      "execution_count": 8,
      "outputs": [
        {
          "output_type": "execute_result",
          "data": {
            "text/plain": [
              "array([[34.49726773, 12.65565115, 39.57766802,  4.08262063],\n",
              "       [31.92627203, 11.10946073, 37.26895887,  2.66403418],\n",
              "       [33.00091476, 11.33027806, 37.11059744,  4.1045432 ],\n",
              "       ...,\n",
              "       [32.64677668, 11.49940906, 38.33257633,  4.95826447],\n",
              "       [33.32250105, 12.39142299, 36.84008573,  2.33648467],\n",
              "       [33.71598092, 12.41880832, 35.77101619,  2.73515957]])"
            ]
          },
          "metadata": {},
          "execution_count": 8
        }
      ]
    },
    {
      "cell_type": "code",
      "source": [
        "y"
      ],
      "metadata": {
        "colab": {
          "base_uri": "https://localhost:8080/"
        },
        "id": "3Hk0BZlgnWv3",
        "outputId": "ba3dc5c9-41a6-4c86-9b32-f812f5ece134"
      },
      "execution_count": 9,
      "outputs": [
        {
          "output_type": "execute_result",
          "data": {
            "text/plain": [
              "array([587.95105397, 392.20493344, 487.54750487, 581.85234404,\n",
              "       599.40609205, 637.10244792, 521.57217476, 549.90414611,\n",
              "       570.20040896, 427.1993849 , 492.60601272, 522.33740461,\n",
              "       408.64035107, 573.41586733, 470.4527333 , 461.7807422 ,\n",
              "       457.84769594, 407.70454755, 452.31567548, 605.0610388 ,\n",
              "       534.70574381, 419.93877484, 436.51560573, 519.34098913,\n",
              "       700.91709162, 423.17999168, 619.89563986, 486.83893477,\n",
              "       529.53766534, 554.72208383, 497.5866713 , 447.68790654,\n",
              "       588.71260551, 491.07322368, 507.44183234, 521.88357317,\n",
              "       347.77692663, 490.73863214, 478.17033405, 537.84619527,\n",
              "       532.75178758, 501.87443028, 591.19717818, 547.24434342,\n",
              "       448.22982919, 549.86059046, 593.91500297, 563.67287336,\n",
              "       479.73194909, 416.35835358, 725.58481406, 442.66725174,\n",
              "       384.62657157, 451.45744687, 522.40414126, 483.67330802,\n",
              "       520.89879445, 453.16950235, 496.65070807, 547.36514059,\n",
              "       616.85152297, 507.212569  , 613.59932337, 483.15972078,\n",
              "       540.26340041, 765.51846194, 553.60153468, 469.3108615 ,\n",
              "       408.62018783, 451.57568516, 444.96655165, 595.8228367 ,\n",
              "       418.1500811 , 534.7771881 , 578.24160506, 478.71935687,\n",
              "       444.2859075 , 544.77986372, 488.78606109, 475.75906779,\n",
              "       489.812488  , 462.89763615, 596.43017262, 338.31986264,\n",
              "       533.51493526, 536.77189936, 487.37930602, 473.72896651,\n",
              "       547.12593175, 505.11334354, 449.07031944, 611.0000251 ,\n",
              "       515.82881485, 439.07476674, 514.08895775, 543.34016626,\n",
              "       521.14295181, 614.71533383, 507.39006179, 495.29944255,\n",
              "       518.06455798, 390.10327297, 420.73767324, 492.10505239,\n",
              "       410.06961106, 497.51368333, 494.55186109, 378.33090691,\n",
              "       570.45172591, 549.00822693, 459.28512346, 492.94505307,\n",
              "       424.76263551, 422.42677588, 642.10157873, 413.37178311,\n",
              "       479.23109291, 593.07724134, 506.54730705, 571.30749488,\n",
              "       576.31117737, 576.8025474 , 514.23952072, 495.17595045,\n",
              "       514.33655827, 541.22658399, 516.83155668, 468.44573723,\n",
              "       548.2803202 , 431.61773376, 552.94034545, 573.30622226,\n",
              "       452.627255  , 542.7115581 , 407.80403064, 482.35357032,\n",
              "       529.23009012, 433.0487691 , 476.19141335, 439.99787994,\n",
              "       448.93329321, 472.99224667, 463.92351299, 350.05820016,\n",
              "       460.06127739, 505.77114032, 463.4849954 , 479.73193765,\n",
              "       424.18549429, 465.88931271, 426.77521599, 684.16343102,\n",
              "       555.89259539, 657.01992394, 595.80381888, 503.97837905,\n",
              "       586.15587018, 744.2218671 , 512.82535813, 528.22380937,\n",
              "       468.91350132, 357.59143942, 536.42310453, 490.20659998,\n",
              "       550.04758058, 513.45057119, 497.81193001, 578.98625858,\n",
              "       506.53639314, 501.74923331, 421.96679419, 439.89128048,\n",
              "       666.12559173, 298.76200786, 465.17662331, 373.8857237 ,\n",
              "       532.71748568, 554.90078302, 537.77316254, 501.10024523,\n",
              "       517.16513559, 557.52927361, 493.71919298, 452.12262509,\n",
              "       577.27345498, 485.92313052, 425.74509203, 537.2150527 ,\n",
              "       524.63796461, 478.88539132, 612.3852299 , 476.76672415,\n",
              "       505.11963753, 545.94549214, 434.02169975, 424.67528101,\n",
              "       352.55010816, 662.96108781, 560.56016062, 467.50190043,\n",
              "       504.87043239, 590.56271965, 443.96562681, 392.49739919,\n",
              "       568.71757593, 712.39632681, 413.29599918, 562.08204539,\n",
              "       412.0129313 , 468.6684656 , 496.55408164, 548.51852928,\n",
              "       536.13089686, 558.42725718, 357.86371864, 529.0566632 ,\n",
              "       387.35707274, 528.93361857, 420.91615953, 496.93344626,\n",
              "       519.3729768 , 591.43773557, 502.4097853 , 604.33484007,\n",
              "       555.06839405, 256.67058229, 547.11098236, 461.92087689,\n",
              "       458.37691065, 436.28349815, 532.93521884, 512.55253436,\n",
              "       630.42276323, 463.74598112, 493.18021625, 501.20917268,\n",
              "       501.92826487, 376.33690076, 421.32663126, 538.77493348,\n",
              "       398.16346853, 571.47103412, 451.62861054, 490.6004425 ,\n",
              "       591.78108943, 409.07047205, 563.44603567, 647.61945573,\n",
              "       448.34042501, 518.78648309, 523.63393514, 393.85737099,\n",
              "       426.15454771, 503.38788729, 482.60246733, 524.79762757,\n",
              "       574.65484337, 574.74721966, 660.42518429, 375.39845541,\n",
              "       640.18774001, 514.00981785, 376.49684072, 484.51980911,\n",
              "       614.72963763, 567.47501053, 554.00309343, 399.9838716 ,\n",
              "       479.17285149, 585.9318443 , 540.99573911, 628.04780393,\n",
              "       582.49192373, 640.7861664 , 446.41867337, 570.63009809,\n",
              "       423.3083341 , 616.66028602, 530.36246889, 442.36311738,\n",
              "       511.97985999, 560.44379217, 475.26342373, 374.26967454,\n",
              "       463.59141803, 471.60288439, 626.01867266, 432.47206125,\n",
              "       356.61556789, 467.4278485 , 503.21739312, 378.47356645,\n",
              "       584.21831349, 451.72786332, 557.634109  , 432.72071784,\n",
              "       506.42385997, 510.15981728, 587.57479948, 282.47124572,\n",
              "       473.94985742, 489.9080531 , 541.97220376, 266.08634095,\n",
              "       494.68715581, 689.78760417, 387.53471631, 441.89663152,\n",
              "       604.84131882, 302.18954781, 479.61481167, 506.13234244,\n",
              "       319.9288698 , 528.30922503, 610.12803313, 584.10588505,\n",
              "       466.42119882, 404.82452887, 564.79096901, 596.51669797,\n",
              "       368.65478495, 542.41247673, 478.2621264 , 473.36049557,\n",
              "       559.19904795, 447.18764431, 505.23006828, 557.25268675,\n",
              "       422.36873661, 445.06218551, 442.06441376, 533.04006018,\n",
              "       424.2028271 , 498.63559849, 330.59444603, 443.44186006,\n",
              "       478.60091594, 440.00274755, 357.78311075, 476.13924687,\n",
              "       501.1224915 , 592.6884532 , 486.0834255 , 576.02524413,\n",
              "       442.72289157, 461.79095906, 488.38752578, 593.15640148,\n",
              "       392.81034498, 443.19722103, 535.48077519, 533.39655379,\n",
              "       532.12744911, 558.94811239, 508.77190674, 403.7669021 ,\n",
              "       640.5840619 , 461.62827839, 382.41610787, 561.87465767,\n",
              "       444.57614413, 401.03313522, 384.32605714, 527.78299576,\n",
              "       482.14499688, 594.27448342, 502.0925279 , 407.65717876,\n",
              "       708.93518487, 531.96155055, 521.24078024, 447.3690272 ,\n",
              "       385.15233799, 430.58888256, 418.6027421 , 478.95140476,\n",
              "       483.79652206, 538.94197453, 486.16379907, 385.09500707,\n",
              "       527.78378976, 547.19074935, 410.60294395, 583.97780197,\n",
              "       474.53232944, 414.93506065, 550.81336773, 458.78113168,\n",
              "       407.54216801, 581.30893288, 546.55666686, 503.17508519,\n",
              "       549.13157329, 482.83098586, 557.60826205, 484.87696494,\n",
              "       669.9871405 , 547.70998858, 537.8252823 , 408.21690177,\n",
              "       663.07481761, 506.37586675, 528.4193297 , 632.12358814,\n",
              "       488.27029797, 508.73574095, 411.18696357, 409.09452619,\n",
              "       467.80092437, 512.16586639, 608.27181662, 589.02648976,\n",
              "       444.05382657, 493.18126139, 532.72480546, 275.91842065,\n",
              "       511.03878605, 438.41774201, 475.72506791, 483.54319387,\n",
              "       663.80369328, 544.40927216, 630.15672817, 461.11224843,\n",
              "       491.9115051 , 574.41568961, 530.76671865, 581.79879768,\n",
              "       556.29814117, 502.13278923, 556.18636887, 475.0716299 ,\n",
              "       486.94705384, 434.14420203, 304.13559158, 571.21600483,\n",
              "       583.07963566, 445.74984124, 392.99225591, 565.9943634 ,\n",
              "       499.14015245, 510.5394217 , 308.52774656, 561.51653198,\n",
              "       423.47053317, 513.15311185, 529.19451886, 314.4385183 ,\n",
              "       478.58428601, 444.58216498, 475.01540709, 436.72055586,\n",
              "       521.19531053, 478.18305971, 432.48116856, 438.30370785,\n",
              "       388.94054879, 534.77148495, 537.91575292, 407.87637822,\n",
              "       618.84597042, 502.77107457, 397.4205841 , 392.28524425,\n",
              "       689.23569976, 543.13262629, 577.73602485, 436.58074035,\n",
              "       553.99467359, 427.3565308 , 424.72877393, 541.04983096,\n",
              "       469.38314617, 444.54554965, 492.5568337 , 535.32161009,\n",
              "       408.95833594, 487.55545806, 487.64623174, 402.16712222,\n",
              "       551.0230017 , 497.38955776, 494.63860976, 479.24741678,\n",
              "       462.65651893, 515.50247966, 576.47760717, 357.85798361,\n",
              "       597.73987888, 327.37795259, 510.40138845, 510.50147847,\n",
              "       403.81951983, 627.60331871, 510.66179222, 573.84743772,\n",
              "       529.04900413, 551.62014548, 456.46951007, 497.77864222])"
            ]
          },
          "metadata": {},
          "execution_count": 9
        }
      ]
    },
    {
      "cell_type": "markdown",
      "source": [
        "Split the Data into Train and Test"
      ],
      "metadata": {
        "id": "s3T_b9rRAwWP"
      }
    },
    {
      "cell_type": "code",
      "source": [
        "from sklearn.model_selection import train_test_split\n",
        "x_train,x_test,y_train,y_test = train_test_split(x,y, test_size=0.25, random_state=0)"
      ],
      "metadata": {
        "id": "0yZt_LK9naHo"
      },
      "execution_count": 10,
      "outputs": []
    },
    {
      "cell_type": "markdown",
      "source": [
        "Normalizing the Data"
      ],
      "metadata": {
        "id": "4wt9_jFjGJ46"
      }
    },
    {
      "cell_type": "code",
      "source": [
        "from sklearn.preprocessing import StandardScaler\n",
        "sc = StandardScaler()\n",
        "x_train = sc.fit_transform(x_train)\n",
        "x_test = sc.transform(x_test)"
      ],
      "metadata": {
        "id": "1Ym1MrssFzpz"
      },
      "execution_count": 21,
      "outputs": []
    },
    {
      "cell_type": "markdown",
      "source": [
        "Import the Algortham"
      ],
      "metadata": {
        "id": "4P3OVCrlBLU4"
      }
    },
    {
      "cell_type": "code",
      "source": [
        "from sklearn.linear_model import LinearRegression\n",
        "le = LinearRegression()\n",
        "le.fit(x_train,y_train)"
      ],
      "metadata": {
        "colab": {
          "base_uri": "https://localhost:8080/"
        },
        "id": "hFCiBns3nz1j",
        "outputId": "f7108ec9-db1d-4d3d-9677-5b72949e5183"
      },
      "execution_count": 22,
      "outputs": [
        {
          "output_type": "execute_result",
          "data": {
            "text/plain": [
              "LinearRegression()"
            ]
          },
          "metadata": {},
          "execution_count": 22
        }
      ]
    },
    {
      "cell_type": "markdown",
      "source": [
        "Find the Coffient of the Variable"
      ],
      "metadata": {
        "id": "MUS41KCuBSH9"
      }
    },
    {
      "cell_type": "code",
      "source": [
        "print(le.coef_)"
      ],
      "metadata": {
        "colab": {
          "base_uri": "https://localhost:8080/"
        },
        "id": "Dz1l39hUolvU",
        "outputId": "7eea9a76-76ad-4fd3-a295-2442753699ec"
      },
      "execution_count": 23,
      "outputs": [
        {
          "output_type": "stream",
          "name": "stdout",
          "text": [
            "[24.2517772  38.40225059  0.20838911 60.60770352]\n"
          ]
        }
      ]
    },
    {
      "cell_type": "markdown",
      "source": [
        "Predict the Output Value"
      ],
      "metadata": {
        "id": "_4wt3E0EBfYk"
      }
    },
    {
      "cell_type": "code",
      "source": [
        "y_pred = le.predict(x_test)\n",
        "print(y_pred)"
      ],
      "metadata": {
        "id": "wZRRw4VUotfv",
        "colab": {
          "base_uri": "https://localhost:8080/"
        },
        "outputId": "681b1d5f-160e-49ba-8027-6d30ab56bf42"
      },
      "execution_count": 24,
      "outputs": [
        {
          "output_type": "stream",
          "name": "stdout",
          "text": [
            "[438.38828993 489.87912877 370.64151577 514.37404963 496.32026503\n",
            " 451.29279839 458.06660753 336.89276993 528.25388182 663.31704278\n",
            " 559.74505053 526.08403059 552.2666673  457.34723714 450.32757843\n",
            " 432.07243558 563.49098202 408.83311971 599.61369349 486.97464621\n",
            " 716.28720652 496.96707494 411.71628067 556.29816291 551.32361174\n",
            " 398.40552149 421.3192807  395.6763062  548.32209658 463.59145823\n",
            " 558.49053354 505.31208848 505.85283789 464.06854533 425.97536477\n",
            " 401.03979978 503.80451158 430.54260512 570.00202003 422.07929224\n",
            " 487.66473058 602.27337836 616.11566136 589.29672921 449.9893809\n",
            " 380.10689082 558.50487097 462.99820434 502.29871803 401.49519991\n",
            " 524.32671862 416.85563469 576.68875978 478.2795989  457.25927104\n",
            " 397.8735013  564.86367172 305.40669074 562.49057886 476.83985037\n",
            " 498.89242109 434.2497342  464.52456142 577.1308694  503.80281642\n",
            " 356.815947   508.8429179  417.2000656  635.19398406 455.59348954\n",
            " 452.44811824 766.85804752 519.09912031 457.52434093 379.92395294\n",
            " 376.16099555 598.89400804 516.10814355 513.50834405 429.89270474\n",
            " 491.28180598 492.00108977 532.78750622 494.97263082 441.83448021\n",
            " 506.99720087 559.106833   754.19981393 396.73748742 516.64517582\n",
            " 518.21258418 523.30694768 384.09676835 486.41248467 504.99637921\n",
            " 384.00426123 523.62747955 500.84993873 606.53112989 409.42749919\n",
            " 389.6383206  477.43724867 610.98315224 500.02683591 517.21590083\n",
            " 467.52321893 425.78720679 507.41909421 287.37849627 501.90239524\n",
            " 574.57103302 558.67567928 444.01219695 559.44768608 397.97658491\n",
            " 508.91663891 475.57554816 444.30967763 501.12480974 512.28721046\n",
            " 547.79326011 417.31404737 395.34599275 589.11711377 497.70157035]\n"
          ]
        }
      ]
    }
  ]
}